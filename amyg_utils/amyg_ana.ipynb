{
 "cells": [
  {
   "cell_type": "code",
   "execution_count": 3,
   "metadata": {},
   "outputs": [],
   "source": [
    "cd /braintree/home/kohitij/lib/matlab/2021_faceEmotion_ASD/\n",
    "addpath(genpath(pwd))\n",
    "load('data/amygdala_firing_rates.mat')"
   ]
  },
  {
   "cell_type": "code",
   "execution_count": 19,
   "metadata": {},
   "outputs": [
    {
     "name": "stdout",
     "output_type": "stream",
     "text": [
      "Number of sites with reliability >0 = 155\n"
     ]
    }
   ],
   "source": [
    "% Get the internal consistencies of each recorded site\n",
    "intcon = get_internalConsistency(rates_sh1, rates_sh2,[], time, [0 250]);\n",
    "disp(['Number of sites with reliability >0 = ', num2str(sum(intcon>0))])"
   ]
  },
  {
   "cell_type": "markdown",
   "metadata": {},
   "source": [
    "Visual Drive Test"
   ]
  },
  {
   "cell_type": "code",
   "execution_count": 20,
   "metadata": {},
   "outputs": [
    {
     "name": "stdout",
     "output_type": "stream",
     "text": [
      "Number of visual driven cell = 135\n"
     ]
    }
   ],
   "source": [
    "vis_drive_test = nan(442,1);\n",
    "for i = 1:442,\n",
    "     vis_drive_test(i) = ttest(nanmean(rates(:,i,time<0),3),nanmean(rates(:,i,time>0),3));\n",
    "end\n",
    "disp(['Number of visual driven cell = ', num2str(sum(vis_drive_test==1))])"
   ]
  },
  {
   "cell_type": "markdown",
   "metadata": {},
   "source": [
    "Get the Behavioral Data"
   ]
  },
  {
   "cell_type": "code",
   "execution_count": 18,
   "metadata": {},
   "outputs": [],
   "source": [
    "load('data/behavioral_data.mat');\n",
    "ctrl = get_behavioral_matrix('behavior',behavior, 'condition','ASD_Ctrl');\n",
    "asd = get_behavioral_matrix('behavior',behavior, 'condition','ASD');\n",
    "ctrl = reshape(ctrl,[],size(ctrl,3));\n",
    "asd = reshape(asd,[],size(asd,3));"
   ]
  },
  {
   "cell_type": "code",
   "execution_count": null,
   "metadata": {},
   "outputs": [],
   "source": []
  }
 ],
 "metadata": {
  "kernelspec": {
   "display_name": "Matlab",
   "language": "matlab",
   "name": "matlab"
  },
  "language_info": {
   "codemirror_mode": "octave",
   "file_extension": ".m",
   "help_links": [
    {
     "text": "MetaKernel Magics",
     "url": "https://github.com/calysto/metakernel/blob/master/metakernel/magics/README.md"
    }
   ],
   "mimetype": "text/x-octave",
   "name": "matlab",
   "version": "0.16.1"
  }
 },
 "nbformat": 4,
 "nbformat_minor": 4
}
